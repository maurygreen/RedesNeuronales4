{
 "cells": [
  {
   "cell_type": "markdown",
   "metadata": {},
   "source": [
    "# Práctico 4 de Redes Neuronales"
   ]
  },
  {
   "cell_type": "code",
   "execution_count": 1,
   "metadata": {},
   "outputs": [],
   "source": [
    "import torch\n",
    "import torchvision as tv\n",
    "import torchvision.transforms as transforms\n",
    "import torch.nn as nn\n",
    "import torch.nn.functional as F\n",
    "from torch.autograd import Variable\n",
    "from torchvision.utils import save_image\n",
    "from tqdm import tqdm\n",
    "\n",
    "from torchviz import make_dot\n",
    "\n",
    "import os\n",
    "import matplotlib.pyplot as plt\n",
    "\n",
    "from PIL import Image\n",
    "\n",
    "import numpy as np"
   ]
  },
  {
   "cell_type": "markdown",
   "metadata": {},
   "source": [
    "## MNIST Dataset"
   ]
  },
  {
   "cell_type": "code",
   "execution_count": 2,
   "metadata": {},
   "outputs": [],
   "source": [
    "#transform = transforms.Compose([transforms.Resize([1,784]), transforms.ToTensor()])\n",
    "transform = transforms.Compose([transforms.ToTensor()])"
   ]
  },
  {
   "cell_type": "code",
   "execution_count": 3,
   "metadata": {},
   "outputs": [],
   "source": [
    "MNIST = tv.datasets.MNIST(os.path.abspath(os.path.curdir),\n",
    "                          train=False,\n",
    "                          transform=transform,\n",
    "                          download=True)"
   ]
  },
  {
   "cell_type": "code",
   "execution_count": 4,
   "metadata": {},
   "outputs": [
    {
     "name": "stderr",
     "output_type": "stream",
     "text": [
      "/home/mauri/anaconda3/envs/vg-dialogue/lib/python3.6/site-packages/torchvision/datasets/mnist.py:53: UserWarning: train_data has been renamed data\n",
      "  warnings.warn(\"train_data has been renamed data\")\n"
     ]
    },
    {
     "data": {
      "text/plain": [
       "torch.Size([10000, 28, 28])"
      ]
     },
     "execution_count": 4,
     "metadata": {},
     "output_type": "execute_result"
    }
   ],
   "source": [
    "MNIST.train_data.shape"
   ]
  },
  {
   "cell_type": "code",
   "execution_count": 5,
   "metadata": {},
   "outputs": [
    {
     "data": {
      "image/png": "[encoded data removed]",
      "text/plain": [
       "<Figure size 576x576 with 25 Axes>"
      ]
     },
     "metadata": {},
     "output_type": "display_data"
    }
   ],
   "source": [
    "fig=plt.figure(figsize=(8, 8))\n",
    "cols = 5\n",
    "rows = 5\n",
    "for i in range(1, cols*rows +1):\n",
    "    img = MNIST.data[i]\n",
    "    fig.add_subplot(rows, cols, i)\n",
    "    plt.imshow(img)\n",
    "    plt.xticks([])\n",
    "    plt.yticks([])\n",
    "plt.show()"
   ]
  },
  {
   "cell_type": "code",
   "execution_count": 6,
   "metadata": {
    "scrolled": true
   },
   "outputs": [
    {
     "data": {
      "text/plain": [
       "<matplotlib.image.AxesImage at 0x7f85daf51a20>"
      ]
     },
     "execution_count": 6,
     "metadata": {},
     "output_type": "execute_result"
    },
    {
     "data": {
      "image/png": "[encoded data removed]",
      "text/plain": [
       "<Figure size 432x288 with 1 Axes>"
      ]
     },
     "metadata": {
      "needs_background": "light"
     },
     "output_type": "display_data"
    }
   ],
   "source": [
    "plt.imshow(MNIST.data[-1])"
   ]
  },
  {
   "cell_type": "code",
   "execution_count": 7,
   "metadata": {},
   "outputs": [],
   "source": [
    "dataloader = torch.utils.data.DataLoader(MNIST, batch_size=1, shuffle=False, num_workers=1)"
   ]
  },
  {
   "cell_type": "code",
   "execution_count": 8,
   "metadata": {},
   "outputs": [],
   "source": [
    "reverse_transform = transforms.Compose([transforms.ToPILImage(), transforms.Resize([28,28])])"
   ]
  },
  {
   "cell_type": "markdown",
   "metadata": {},
   "source": [
    "## Autoencoder"
   ]
  },
  {
   "cell_type": "code",
   "execution_count": 9,
   "metadata": {},
   "outputs": [],
   "source": [
    "class Autoencoder(nn.Module):\n",
    "    def __init__(self):\n",
    "        super(Autoencoder,self).__init__()\n",
    "        \n",
    "        self.autouenc = nn.Sequential()\n",
    "        self.encoder  = nn.Linear(784, 64)\n",
    "        self.decoder  = nn.Linear(64, 784)\n",
    "        \n",
    "        self.autouenc.add_module('enc',self.encoder)\n",
    "        self.autouenc.add_module('dec',self.decoder)\n",
    "        \n",
    "    def forward(self, x):\n",
    "        pred = F.relu(self.encoder(x))\n",
    "        pred = F.relu(self.decoder(pred))\n",
    "        return pred"
   ]
  },
  {
   "cell_type": "code",
   "execution_count": 11,
   "metadata": {},
   "outputs": [
    {
     "name": "stderr",
     "output_type": "stream",
     "text": [
      "100%|██████████| 10000/10000 [00:15<00:00, 652.05it/s]"
     ]
    },
    {
     "name": "stdout",
     "output_type": "stream",
     "text": [
      "test loss:0.0075\n"
     ]
    },
    {
     "name": "stderr",
     "output_type": "stream",
     "text": [
      "\n"
     ]
    }
   ],
   "source": [
    "model = Autoencoder().cpu()\n",
    "model.load_state_dict(torch.load('Autoencoder19', map_location=torch.device('cpu')))\n",
    "model.eval()\n",
    "\n",
    "distance = nn.MSELoss()\n",
    "\n",
    "mloss = torch.FloatTensor()\n",
    "\n",
    "with torch.no_grad():\n",
    "    for data in tqdm(dataloader):\n",
    "        img, _ = data\n",
    "        img = Variable(img.view(-1,28*28)).cpu()\n",
    "        # ===================forward=====================\n",
    "        output = model(img)\n",
    "        loss = distance(output, img)\n",
    "        mloss = torch.cat([mloss, loss.data.reshape([1])])\n",
    "\n",
    "    # ===================log========================\n",
    "    print('test loss:{:.4f}'.format(torch.mean(mloss)))"
   ]
  },
  {
   "cell_type": "code",
   "execution_count": 41,
   "metadata": {},
   "outputs": [],
   "source": [
    "enumdata = enumerate(dataloader)\n",
    "topil = transforms.ToPILImage()\n",
    "\n",
    "orig = []\n",
    "modl = []\n",
    "\n",
    "for i in range(5):\n",
    "    u, ig = next(enumdata)\n",
    "    out = model(ig[0].view(-1,28*28))\n",
    "    mimg = topil(out.data.view(-1, 28, 28))\n",
    "    oimg = topil(ig[0].view(-1, 28, 28))\n",
    "    orig.append(oimg)\n",
    "    modl.append(mimg)"
   ]
  },
  {
   "cell_type": "code",
   "execution_count": 52,
   "metadata": {},
   "outputs": [
    {
     "data": {
      "image/png": "[encoded data removed]",
      "text/plain": [
       "<Figure size 288x720 with 4 Axes>"
      ]
     },
     "metadata": {},
     "output_type": "display_data"
    }
   ],
   "source": [
    "fig=plt.figure(figsize=(4, 10))\n",
    "cols = 2\n",
    "rows = 5\n",
    "for i in range(1, rows-2):\n",
    "    fig.add_subplot(rows, cols, 2*i-1)\n",
    "    plt.imshow(orig[i-1])\n",
    "    plt.xticks([])\n",
    "    plt.yticks([])\n",
    "    fig.add_subplot(rows, cols, 2*i)\n",
    "    plt.imshow(modl[i-1])\n",
    "    plt.xticks([])\n",
    "    plt.yticks([])\n",
    "plt.show()"
   ]
  },
  {
   "cell_type": "code",
   "execution_count": 54,
   "metadata": {},
   "outputs": [
    {
     "data": {
      "image/png": "[encoded data removed]",
      "text/plain": [
       "<Figure size 288x720 with 4 Axes>"
      ]
     },
     "metadata": {},
     "output_type": "display_data"
    }
   ],
   "source": [
    "fig=plt.figure(figsize=(4, 10))\n",
    "cols = 2\n",
    "rows = 5\n",
    "for i in range(3, rows):\n",
    "    fig.add_subplot(rows, cols, 2*i-1)\n",
    "    plt.imshow(orig[i-1])\n",
    "    plt.xticks([])\n",
    "    plt.yticks([])\n",
    "    fig.add_subplot(rows, cols, 2*i)\n",
    "    plt.imshow(modl[i-1])\n",
    "    plt.xticks([])\n",
    "    plt.yticks([])\n",
    "plt.show()"
   ]
  },
  {
   "cell_type": "code",
   "execution_count": 68,
   "metadata": {},
   "outputs": [
    {
     "data": {
      "image/png": "[encoded data removed]",
      "text/plain": [
       "<Figure size 432x288 with 1 Axes>"
      ]
     },
     "metadata": {
      "needs_background": "light"
     },
     "output_type": "display_data"
    }
   ],
   "source": [
    "train_log = open('train_log')\n",
    "tlog = []\n",
    "dlog = []\n",
    "for line in train_log:\n",
    "    _, _, _, tstep, _, dstep = line.strip().split(' ')\n",
    "    tlog.append(float(tstep[5:-1]))\n",
    "    dlog.append(float(dstep[5:]))\n",
    "    \n",
    "x = np.arange(1,21)\n",
    "tcurve = plt.plot(x, tlog, marker='*', c='b')\n",
    "dcurve = plt.plot(x, dlog, marker='o', c='g')\n",
    "plt.ylabel('Loss')\n",
    "plt.xlabel('Epoch')\n",
    "plt.xticks(x)\n",
    "plt.legend(['Train', 'Validation'])\n",
    "plt.show()"
   ]
  },
  {
   "cell_type": "code",
   "execution_count": 72,
   "metadata": {},
   "outputs": [
    {
     "data": {
      "image/svg+xml": [
       "<?xml version=\"1.0\" encoding=\"UTF-8\" standalone=\"no\"?>\n",
       "<!DOCTYPE svg PUBLIC \"-//W3C//DTD SVG 1.1//EN\"\n",
       " \"http://www.w3.org/Graphics/SVG/1.1/DTD/svg11.dtd\">\n",
       "<!-- Generated by graphviz version 2.40.1 (20161225.0304)\n",
       " -->\n",
       "<!-- Title: %3 Pages: 1 -->\n",
       "<svg width=\"352pt\" height=\"366pt\"\n",
       " viewBox=\"0.00 0.00 351.50 366.00\" xmlns=\"http://www.w3.org/2000/svg\" xmlns:xlink=\"http://www.w3.org/1999/xlink\">\n",
       "<g id=\"graph0\" class=\"graph\" transform=\"scale(1 1) rotate(0) translate(4 362)\">\n",
       "<title>%3</title>\n",
       "<polygon fill=\"#ffffff\" stroke=\"transparent\" points=\"-4,4 -4,-362 347.5,-362 347.5,4 -4,4\"/>\n",
       "<!-- 140212772099576 -->\n",
       "<g id=\"node1\" class=\"node\">\n",
       "<title>140212772099576</title>\n",
       "<polygon fill=\"#caff70\" stroke=\"#000000\" points=\"213.5,-21 119.5,-21 119.5,0 213.5,0 213.5,-21\"/>\n",
       "<text text-anchor=\"middle\" x=\"166.5\" y=\"-7.4\" font-family=\"Times,serif\" font-size=\"12.00\" fill=\"#000000\">ReluBackward0</text>\n",
       "</g>\n",
       "<!-- 140212772098736 -->\n",
       "<g id=\"node2\" class=\"node\">\n",
       "<title>140212772098736</title>\n",
       "<polygon fill=\"#d3d3d3\" stroke=\"#000000\" points=\"218.5,-78 114.5,-78 114.5,-57 218.5,-57 218.5,-78\"/>\n",
       "<text text-anchor=\"middle\" x=\"166.5\" y=\"-64.4\" font-family=\"Times,serif\" font-size=\"12.00\" fill=\"#000000\">AddmmBackward</text>\n",
       "</g>\n",
       "<!-- 140212772098736&#45;&gt;140212772099576 -->\n",
       "<g id=\"edge1\" class=\"edge\">\n",
       "<title>140212772098736&#45;&gt;140212772099576</title>\n",
       "<path fill=\"none\" stroke=\"#000000\" d=\"M166.5,-56.7787C166.5,-49.6134 166.5,-39.9517 166.5,-31.3097\"/>\n",
       "<polygon fill=\"#000000\" stroke=\"#000000\" points=\"170.0001,-31.1732 166.5,-21.1732 163.0001,-31.1732 170.0001,-31.1732\"/>\n",
       "</g>\n",
       "<!-- 140212772101928 -->\n",
       "<g id=\"node3\" class=\"node\">\n",
       "<title>140212772101928</title>\n",
       "<polygon fill=\"#add8e6\" stroke=\"#000000\" points=\"101,-148 0,-148 0,-114 101,-114 101,-148\"/>\n",
       "<text text-anchor=\"middle\" x=\"50.5\" y=\"-134.4\" font-family=\"Times,serif\" font-size=\"12.00\" fill=\"#000000\">autouenc.dec.bias</text>\n",
       "<text text-anchor=\"middle\" x=\"50.5\" y=\"-121.4\" font-family=\"Times,serif\" font-size=\"12.00\" fill=\"#000000\"> (784)</text>\n",
       "</g>\n",
       "<!-- 140212772101928&#45;&gt;140212772098736 -->\n",
       "<g id=\"edge2\" class=\"edge\">\n",
       "<title>140212772101928&#45;&gt;140212772098736</title>\n",
       "<path fill=\"none\" stroke=\"#000000\" d=\"M81.5859,-113.9832C99.1395,-104.3741 120.9191,-92.4516 138.0258,-83.0872\"/>\n",
       "<polygon fill=\"#000000\" stroke=\"#000000\" points=\"139.9011,-86.0507 146.9922,-78.1788 136.5399,-79.9105 139.9011,-86.0507\"/>\n",
       "</g>\n",
       "<!-- 140212689335128 -->\n",
       "<g id=\"node4\" class=\"node\">\n",
       "<title>140212689335128</title>\n",
       "<polygon fill=\"#d3d3d3\" stroke=\"#000000\" points=\"213.5,-141.5 119.5,-141.5 119.5,-120.5 213.5,-120.5 213.5,-141.5\"/>\n",
       "<text text-anchor=\"middle\" x=\"166.5\" y=\"-127.9\" font-family=\"Times,serif\" font-size=\"12.00\" fill=\"#000000\">ReluBackward0</text>\n",
       "</g>\n",
       "<!-- 140212689335128&#45;&gt;140212772098736 -->\n",
       "<g id=\"edge3\" class=\"edge\">\n",
       "<title>140212689335128&#45;&gt;140212772098736</title>\n",
       "<path fill=\"none\" stroke=\"#000000\" d=\"M166.5,-120.2281C166.5,-111.5091 166.5,-98.9699 166.5,-88.3068\"/>\n",
       "<polygon fill=\"#000000\" stroke=\"#000000\" points=\"170.0001,-88.1128 166.5,-78.1128 163.0001,-88.1129 170.0001,-88.1128\"/>\n",
       "</g>\n",
       "<!-- 140212689338040 -->\n",
       "<g id=\"node5\" class=\"node\">\n",
       "<title>140212689338040</title>\n",
       "<polygon fill=\"#d3d3d3\" stroke=\"#000000\" points=\"211.5,-211.5 107.5,-211.5 107.5,-190.5 211.5,-190.5 211.5,-211.5\"/>\n",
       "<text text-anchor=\"middle\" x=\"159.5\" y=\"-197.9\" font-family=\"Times,serif\" font-size=\"12.00\" fill=\"#000000\">AddmmBackward</text>\n",
       "</g>\n",
       "<!-- 140212689338040&#45;&gt;140212689335128 -->\n",
       "<g id=\"edge4\" class=\"edge\">\n",
       "<title>140212689338040&#45;&gt;140212689335128</title>\n",
       "<path fill=\"none\" stroke=\"#000000\" d=\"M160.5631,-190.3685C161.5807,-180.1925 163.1439,-164.5606 164.4109,-151.8912\"/>\n",
       "<polygon fill=\"#000000\" stroke=\"#000000\" points=\"167.9144,-152.0302 165.4268,-141.7315 160.9491,-151.3336 167.9144,-152.0302\"/>\n",
       "</g>\n",
       "<!-- 140212689336696 -->\n",
       "<g id=\"node6\" class=\"node\">\n",
       "<title>140212689336696</title>\n",
       "<polygon fill=\"#add8e6\" stroke=\"#000000\" points=\"158,-288 57,-288 57,-254 158,-254 158,-288\"/>\n",
       "<text text-anchor=\"middle\" x=\"107.5\" y=\"-274.4\" font-family=\"Times,serif\" font-size=\"12.00\" fill=\"#000000\">autouenc.enc.bias</text>\n",
       "<text text-anchor=\"middle\" x=\"107.5\" y=\"-261.4\" font-family=\"Times,serif\" font-size=\"12.00\" fill=\"#000000\"> (64)</text>\n",
       "</g>\n",
       "<!-- 140212689336696&#45;&gt;140212689338040 -->\n",
       "<g id=\"edge5\" class=\"edge\">\n",
       "<title>140212689336696&#45;&gt;140212689338040</title>\n",
       "<path fill=\"none\" stroke=\"#000000\" d=\"M120.3539,-253.6966C127.9668,-243.4485 137.6202,-230.4535 145.4359,-219.9325\"/>\n",
       "<polygon fill=\"#000000\" stroke=\"#000000\" points=\"148.33,-221.9059 151.4836,-211.7913 142.7107,-217.7316 148.33,-221.9059\"/>\n",
       "</g>\n",
       "<!-- 140212689337592 -->\n",
       "<g id=\"node7\" class=\"node\">\n",
       "<title>140212689337592</title>\n",
       "<polygon fill=\"#d3d3d3\" stroke=\"#000000\" points=\"249,-281.5 176,-281.5 176,-260.5 249,-260.5 249,-281.5\"/>\n",
       "<text text-anchor=\"middle\" x=\"212.5\" y=\"-267.9\" font-family=\"Times,serif\" font-size=\"12.00\" fill=\"#000000\">TBackward</text>\n",
       "</g>\n",
       "<!-- 140212689337592&#45;&gt;140212689338040 -->\n",
       "<g id=\"edge6\" class=\"edge\">\n",
       "<title>140212689337592&#45;&gt;140212689338040</title>\n",
       "<path fill=\"none\" stroke=\"#000000\" d=\"M204.4504,-260.3685C196.3566,-249.6786 183.7042,-232.9678 173.8822,-219.9953\"/>\n",
       "<polygon fill=\"#000000\" stroke=\"#000000\" points=\"176.4521,-217.5914 167.6253,-211.7315 170.8713,-221.8169 176.4521,-217.5914\"/>\n",
       "</g>\n",
       "<!-- 140212689334904 -->\n",
       "<g id=\"node8\" class=\"node\">\n",
       "<title>140212689334904</title>\n",
       "<polygon fill=\"#add8e6\" stroke=\"#000000\" points=\"269.5,-358 155.5,-358 155.5,-324 269.5,-324 269.5,-358\"/>\n",
       "<text text-anchor=\"middle\" x=\"212.5\" y=\"-344.4\" font-family=\"Times,serif\" font-size=\"12.00\" fill=\"#000000\">autouenc.enc.weight</text>\n",
       "<text text-anchor=\"middle\" x=\"212.5\" y=\"-331.4\" font-family=\"Times,serif\" font-size=\"12.00\" fill=\"#000000\"> (64, 784)</text>\n",
       "</g>\n",
       "<!-- 140212689334904&#45;&gt;140212689337592 -->\n",
       "<g id=\"edge7\" class=\"edge\">\n",
       "<title>140212689334904&#45;&gt;140212689337592</title>\n",
       "<path fill=\"none\" stroke=\"#000000\" d=\"M212.5,-323.6966C212.5,-314.0634 212.5,-302.003 212.5,-291.8518\"/>\n",
       "<polygon fill=\"#000000\" stroke=\"#000000\" points=\"216.0001,-291.7912 212.5,-281.7913 209.0001,-291.7913 216.0001,-291.7912\"/>\n",
       "</g>\n",
       "<!-- 140212689336248 -->\n",
       "<g id=\"node9\" class=\"node\">\n",
       "<title>140212689336248</title>\n",
       "<polygon fill=\"#d3d3d3\" stroke=\"#000000\" points=\"317,-141.5 244,-141.5 244,-120.5 317,-120.5 317,-141.5\"/>\n",
       "<text text-anchor=\"middle\" x=\"280.5\" y=\"-127.9\" font-family=\"Times,serif\" font-size=\"12.00\" fill=\"#000000\">TBackward</text>\n",
       "</g>\n",
       "<!-- 140212689336248&#45;&gt;140212772098736 -->\n",
       "<g id=\"edge8\" class=\"edge\">\n",
       "<title>140212689336248&#45;&gt;140212772098736</title>\n",
       "<path fill=\"none\" stroke=\"#000000\" d=\"M261.419,-120.3715C243.1701,-110.2066 215.4311,-94.7555 194.6452,-83.1774\"/>\n",
       "<polygon fill=\"#000000\" stroke=\"#000000\" points=\"196.0826,-79.9717 185.6433,-78.1631 192.6763,-86.087 196.0826,-79.9717\"/>\n",
       "</g>\n",
       "<!-- 140212689337144 -->\n",
       "<g id=\"node10\" class=\"node\">\n",
       "<title>140212689337144</title>\n",
       "<polygon fill=\"#add8e6\" stroke=\"#000000\" points=\"343.5,-218 229.5,-218 229.5,-184 343.5,-184 343.5,-218\"/>\n",
       "<text text-anchor=\"middle\" x=\"286.5\" y=\"-204.4\" font-family=\"Times,serif\" font-size=\"12.00\" fill=\"#000000\">autouenc.dec.weight</text>\n",
       "<text text-anchor=\"middle\" x=\"286.5\" y=\"-191.4\" font-family=\"Times,serif\" font-size=\"12.00\" fill=\"#000000\"> (784, 64)</text>\n",
       "</g>\n",
       "<!-- 140212689337144&#45;&gt;140212689336248 -->\n",
       "<g id=\"edge9\" class=\"edge\">\n",
       "<title>140212689337144&#45;&gt;140212689336248</title>\n",
       "<path fill=\"none\" stroke=\"#000000\" d=\"M285.0169,-183.6966C284.1911,-174.0634 283.1574,-162.003 282.2873,-151.8518\"/>\n",
       "<polygon fill=\"#000000\" stroke=\"#000000\" points=\"285.7663,-151.4558 281.425,-141.7913 278.7919,-152.0537 285.7663,-151.4558\"/>\n",
       "</g>\n",
       "</g>\n",
       "</svg>\n"
      ],
      "text/plain": [
       "<graphviz.dot.Digraph at 0x7f85cf0af630>"
      ]
     },
     "execution_count": 72,
     "metadata": {},
     "output_type": "execute_result"
    }
   ],
   "source": [
    "mkdot_model = Autoencoder()\n",
    "x = torch.zeros([1,784])\n",
    "out = mkdot_model(x)\n",
    "make_dot(out, params=dict(mkdot_model.named_parameters()))"
   ]
  },
  {
   "cell_type": "code",
   "execution_count": 71,
   "metadata": {},
   "outputs": [],
   "source": []
  },
  {
   "cell_type": "code",
   "execution_count": null,
   "metadata": {},
   "outputs": [],
   "source": []
  }
 ],
 "metadata": {
  "kernelspec": {
   "display_name": "Python 3",
   "language": "python",
   "name": "python3"
  },
  "language_info": {
   "codemirror_mode": {
    "name": "ipython",
    "version": 3
   },
   "file_extension": ".py",
   "mimetype": "text/x-python",
   "name": "python",
   "nbconvert_exporter": "python",
   "pygments_lexer": "ipython3",
   "version": "3.6.9"
  }
 },
 "nbformat": 4,
 "nbformat_minor": 2
}
